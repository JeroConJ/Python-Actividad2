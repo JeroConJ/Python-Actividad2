{
 "cells": [
  {
   "cell_type": "markdown",
   "metadata": {},
   "source": [
    "# Ejercicio 10 (Jeronimo Soto Cilley)"
   ]
  },
  {
   "cell_type": "code",
   "execution_count": 2,
   "metadata": {},
   "outputs": [],
   "source": [
    "import sys\n",
    "import os\n",
    "\n",
    "# Obtener la ruta absoluta del directorio raíz del proyecto\n",
    "sys.path.append(os.path.abspath(\"../src\"))"
   ]
  },
  {
   "cell_type": "code",
   "execution_count": 6,
   "metadata": {},
   "outputs": [],
   "source": [
    "from process_rounds import process_round\n",
    "from imprimir import imprimir_dic\n",
    "from sumar_elems import sumar_dic"
   ]
  },
  {
   "cell_type": "code",
   "execution_count": 7,
   "metadata": {},
   "outputs": [],
   "source": [
    "ranking_final = {}\n",
    "rounds = [\n",
    "{\n",
    "'Shadow': {'kills': 2, 'assists': 1, 'deaths': True},\n",
    "'Blaze': {'kills': 1, 'assists': 0, 'deaths': False},\n",
    "'Viper': {'kills': 1, 'assists': 2, 'deaths': True},\n",
    "'Frost': {'kills': 0, 'assists': 1, 'deaths': False},\n",
    "'Reaper': {'kills': 1, 'assists': 1, 'deaths': False}\n",
    "},\n",
    "{\n",
    "'Shadow': {'kills': 0, 'assists': 2, 'deaths': False},\n",
    "'Blaze': {'kills': 2, 'assists': 0, 'deaths': True},\n",
    "'Viper': {'kills': 1, 'assists': 1, 'deaths': False},\n",
    "'Frost': {'kills': 2, 'assists': 1, 'deaths': True},\n",
    "'Reaper': {'kills': 0, 'assists': 1, 'deaths': False}\n",
    "},\n",
    "{\n",
    "'Shadow': {'kills': 1, 'assists': 0, 'deaths': False},\n",
    "'Blaze': {'kills': 2, 'assists': 2, 'deaths': True},\n",
    "'Viper': {'kills': 1, 'assists': 1, 'deaths': True},\n",
    "'Frost': {'kills': 0, 'assists': 1, 'deaths': False},\n",
    "'Reaper': {'kills': 1, 'assists': 1, 'deaths': False}\n",
    "},\n",
    "{\n",
    "'Shadow': {'kills': 2, 'assists': 1, 'deaths': False},\n",
    "'Blaze': {'kills': 1, 'assists': 0, 'deaths': True},\n",
    "'Viper': {'kills': 0, 'assists': 2, 'deaths': False},\n",
    "'Frost': {'kills': 1, 'assists': 1, 'deaths': True},\n",
    "'Reaper': {'kills': 1, 'assists': 1, 'deaths': False}\n",
    "},\n",
    "{\n",
    "'Shadow': {'kills': 1, 'assists': 2, 'deaths': True},\n",
    "'Blaze': {'kills': 0, 'assists': 1, 'deaths': False},\n",
    "'Viper': {'kills': 2, 'assists': 0, 'deaths': True},\n",
    "'Frost': {'kills': 1, 'assists': 1, 'deaths': False},\n",
    "'Reaper': {'kills': 1, 'assists': 1, 'deaths': True}\n",
    "}\n",
    "]"
   ]
  },
  {
   "cell_type": "code",
   "execution_count": 8,
   "metadata": {},
   "outputs": [
    {
     "name": "stdout",
     "output_type": "stream",
     "text": [
      "Ranking ronda 1 \n",
      "Jugador  Kills  Asistencias  Muertes  MVP  Puntos\n",
      "--------------------------------------------------\n",
      "Shadow   2      1            1        1    6\n",
      "Viper    1      2            1        0    4\n",
      "Reaper   1      1            0        0    4\n",
      "Blaze    1      0            0        0    3\n",
      "Frost    0      1            0        0    1\n",
      "--------------------------------------------------\n",
      "Ranking ronda 2 \n",
      "Jugador  Kills  Asistencias  Muertes  MVP  Puntos\n",
      "--------------------------------------------------\n",
      "Frost    2      1            1        1    6\n",
      "Blaze    2      0            1        0    5\n",
      "Viper    1      1            0        0    4\n",
      "Shadow   0      2            0        0    2\n",
      "Reaper   0      1            0        0    1\n",
      "--------------------------------------------------\n",
      "Ranking ronda 3 \n",
      "Jugador  Kills  Asistencias  Muertes  MVP  Puntos\n",
      "--------------------------------------------------\n",
      "Blaze    2      2            1        1    7\n",
      "Reaper   1      1            0        0    4\n",
      "Shadow   1      0            0        0    3\n",
      "Viper    1      1            1        0    3\n",
      "Frost    0      1            0        0    1\n",
      "--------------------------------------------------\n",
      "Ranking ronda 4 \n",
      "Jugador  Kills  Asistencias  Muertes  MVP  Puntos\n",
      "--------------------------------------------------\n",
      "Shadow   2      1            0        1    7\n",
      "Reaper   1      1            0        0    4\n",
      "Frost    1      1            1        0    3\n",
      "Blaze    1      0            1        0    2\n",
      "Viper    0      2            0        0    2\n",
      "--------------------------------------------------\n",
      "Ranking ronda 5 \n",
      "Jugador  Kills  Asistencias  Muertes  MVP  Puntos\n",
      "--------------------------------------------------\n",
      "Viper    2      0            1        1    5\n",
      "Shadow   1      2            1        0    4\n",
      "Frost    1      1            0        0    4\n",
      "Reaper   1      1            1        0    3\n",
      "Blaze    0      1            0        0    1\n",
      "--------------------------------------------------\n"
     ]
    }
   ],
   "source": [
    "for i in range(len(rounds)):\n",
    "    result = process_round(rounds[i])\n",
    "    ranking_final = sumar_dic(ranking_final, result)\n",
    "    print(f\"Ranking ronda {i + 1} \\nJugador  Kills  Asistencias  Muertes  MVP  Puntos\")\n",
    "    print('-' * 50)\n",
    "    imprimir_dic(result)\n",
    "    print('-' * 50)"
   ]
  },
  {
   "cell_type": "code",
   "execution_count": 9,
   "metadata": {},
   "outputs": [
    {
     "name": "stdout",
     "output_type": "stream",
     "text": [
      "Ranking final \n",
      "Jugador  Kills  Asistencias  Muertes  MVP  Puntos\n",
      "Shadow   6      6            2        2    22\n",
      "Blaze    6      3            3        1    18\n",
      "Viper    5      6            3        1    18\n",
      "Reaper   4      5            1        0    16\n",
      "Frost    4      5            2        1    15\n"
     ]
    }
   ],
   "source": [
    "print(f\"Ranking final \\nJugador  Kills  Asistencias  Muertes  MVP  Puntos\")\n",
    "imprimir_dic(ranking_final)"
   ]
  }
 ],
 "metadata": {
  "kernelspec": {
   "display_name": "Python 3",
   "language": "python",
   "name": "python3"
  },
  "language_info": {
   "codemirror_mode": {
    "name": "ipython",
    "version": 3
   },
   "file_extension": ".py",
   "mimetype": "text/x-python",
   "name": "python",
   "nbconvert_exporter": "python",
   "pygments_lexer": "ipython3",
   "version": "3.12.9"
  }
 },
 "nbformat": 4,
 "nbformat_minor": 2
}
